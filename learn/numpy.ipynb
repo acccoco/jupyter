{
 "cells": [
  {
   "cell_type": "code",
   "execution_count": 67,
   "metadata": {},
   "outputs": [],
   "source": [
    "import numpy as np"
   ]
  },
  {
   "cell_type": "markdown",
   "metadata": {},
   "source": [
    "## Axis\n",
    "numpy 的核心是 `nadrray`\n",
    "\n",
    "维度叫做 `axis`。\n",
    "\n",
    "例如，下面这个具有两个 `axis`，第一个 `axis`（外层）的长度是 2，第二个 `axis`（内层）的长度是 3：\n",
    "\n",
    "```python\n",
    "[[1., 0., 0.],\n",
    " [0., 1., 2.]]\n",
    "```"
   ]
  },
  {
   "cell_type": "markdown",
   "metadata": {},
   "source": [
    "## 创建 ndarray"
   ]
  },
  {
   "cell_type": "markdown",
   "metadata": {},
   "source": [
    "#### 通过 `python` 的数组来创建"
   ]
  },
  {
   "cell_type": "code",
   "execution_count": 68,
   "metadata": {},
   "outputs": [
    {
     "name": "stdout",
     "output_type": "stream",
     "text": [
      "1d array: \n",
      " [2 3 4]\n",
      "2d array: \n",
      " [[1 2 3]\n",
      " [4 5 6]]\n",
      "complex 2d array: \n",
      " [[1.+0.j 2.+0.j]\n",
      " [3.+0.j 4.+0.j]]\n"
     ]
    }
   ],
   "source": [
    "# 创建一个 1D array\n",
    "a = np.array([2, 3, 4])\n",
    "print(\"1d array: \\n\", a)\n",
    "\n",
    "# 创建一个 2D array\n",
    "b = np.array([[1, 2, 3], [4, 5, 6]])\n",
    "print(\"2d array: \\n\", b)\n",
    "\n",
    "# 指定每个元素的类型，这里是复数\n",
    "c = np.array([[1, 2], [3, 4]], dtype=complex)\n",
    "print(\"complex 2d array: \\n\", c)"
   ]
  },
  {
   "cell_type": "markdown",
   "metadata": {},
   "source": [
    "#### 通过内置的方法来创建"
   ]
  },
  {
   "cell_type": "code",
   "execution_count": 69,
   "metadata": {},
   "outputs": [
    {
     "name": "stdout",
     "output_type": "stream",
     "text": [
      "zeros: \n",
      " [[0. 0. 0. 0. 0. 0.]\n",
      " [0. 0. 0. 0. 0. 0.]]\n",
      "ones: \n",
      " [[1. 1. 1. 1. 1.]\n",
      " [1. 1. 1. 1. 1.]]\n",
      "empty: \n",
      " [[1. 0. 2. 0.]\n",
      " [3. 0. 4. 0.]]\n"
     ]
    }
   ],
   "source": [
    "# 创建全是 0 元素的 ndarry\n",
    "d = np.zeros((2, 6))\n",
    "print(\"zeros: \\n\", d)\n",
    "\n",
    "# 创建全是 1 元素的 ndarray\n",
    "e = np.ones((2, 5), dtype=np.float32)\n",
    "print(\"ones: \\n\", e)\n",
    "\n",
    "# 指定大小，元素的值都是随机的\n",
    "f = np.empty((2, 4))\n",
    "print(\"empty: \\n\", f)"
   ]
  },
  {
   "cell_type": "markdown",
   "metadata": {},
   "source": [
    "#### 通过 `arange` 和 `linspace` 来创建 `1D` 的 array"
   ]
  },
  {
   "cell_type": "code",
   "execution_count": 70,
   "metadata": {},
   "outputs": [
    {
     "name": "stdout",
     "output_type": "stream",
     "text": [
      "arange: \n",
      " [10 15 20 25]\n",
      "linspace: \n",
      " [10. 14. 18. 22. 26. 30.]\n",
      "reshape: \n",
      " [[[ 0  1  2]\n",
      "  [ 3  4  5]]\n",
      "\n",
      " [[ 6  7  8]\n",
      "  [ 9 10 11]]]\n"
     ]
    }
   ],
   "source": [
    "# arange 可以指定步长，含头不含尾\n",
    "a = np.arange(10, 30, 5)\n",
    "print(\"arange: \\n\", a)\n",
    "\n",
    "# linspace 指定总的元素数量\n",
    "b = np.linspace(10, 30, 6)\n",
    "print(\"linspace: \\n\", b)\n",
    "\n",
    "# 配合 reshape 可以得到多维的 array\n",
    "c = np.arange(12).reshape(2, 2, 3)\n",
    "print(\"reshape: \\n\", c)"
   ]
  },
  {
   "cell_type": "markdown",
   "metadata": {},
   "source": [
    "## ndarray 的一些属性"
   ]
  },
  {
   "cell_type": "code",
   "execution_count": 71,
   "metadata": {},
   "outputs": [
    {
     "name": "stdout",
     "output_type": "stream",
     "text": [
      "[[2 4 5]\n",
      " [1 2 3]]\n",
      "ndim:  2\n",
      "shape:  (2, 3)\n",
      "size:  6\n",
      "dtype:  int64\n",
      "itemsize:  8\n"
     ]
    }
   ],
   "source": [
    "a = np.array([[2, 4, 5],\n",
    "             [1, 2, 3]])\n",
    "print(a)\n",
    "\n",
    "# ndim 表示维度，或者 axis 的数量\n",
    "print(\"ndim: \", a.ndim)\n",
    "\n",
    "# shape 每个维度的长度\n",
    "print(\"shape: \", a.shape)\n",
    "\n",
    "# size 总的元素数量\n",
    "print(\"size: \", a.size)\n",
    "\n",
    "# dtype 每个元素的类型\n",
    "print(\"dtype: \", a.dtype)\n",
    "\n",
    "# itemsize 每个元素的大小，单位是 byte\n",
    "print(\"itemsize: \", a.itemsize)"
   ]
  },
  {
   "cell_type": "markdown",
   "metadata": {},
   "source": [
    "## 基本的运算"
   ]
  },
  {
   "cell_type": "markdown",
   "metadata": {},
   "source": [
    "#### `ndarray` 的运算是对每个元素都生效的，比如："
   ]
  },
  {
   "cell_type": "code",
   "execution_count": 72,
   "metadata": {},
   "outputs": [
    {
     "name": "stdout",
     "output_type": "stream",
     "text": [
      "a: \n",
      " [[0 1]\n",
      " [2 3]]\n",
      "a ** 2: \n",
      " [[0 1]\n",
      " [4 9]]\n",
      "np.sin(a): \n",
      " [[0.         0.84147098]\n",
      " [0.90929743 0.14112001]]\n"
     ]
    }
   ],
   "source": [
    "a = np.arange(4).reshape(2, 2)\n",
    "print(\"a: \\n\", a)\n",
    "print(\"a ** 2: \\n\", a ** 2)\n",
    "print(\"np.sin(a): \\n\", np.sin(a))"
   ]
  },
  {
   "cell_type": "markdown",
   "metadata": {},
   "source": [
    "#### 矩阵相关的运算"
   ]
  },
  {
   "cell_type": "code",
   "execution_count": 73,
   "metadata": {},
   "outputs": [
    {
     "name": "stdout",
     "output_type": "stream",
     "text": [
      "A: \n",
      " [[1 1]\n",
      " [0 1]]\n",
      "B: \n",
      " [[2 0]\n",
      " [3 4]]\n",
      "A * B: \n",
      " [[2 0]\n",
      " [0 4]]\n",
      "A @ B: \n",
      " [[5 4]\n",
      " [3 4]]\n",
      "A.dot(B): \n",
      " [[5 4]\n",
      " [3 4]]\n"
     ]
    }
   ],
   "source": [
    "A = np.array([[1, 1],\n",
    "              [0, 1]])\n",
    "B = np.array([[2, 0],\n",
    "              [3, 4]])\n",
    "print(\"A: \\n\", A)\n",
    "print(\"B: \\n\", B)\n",
    "# * 表示矩阵逐元素乘积\n",
    "print(\"A * B: \\n\", A * B)\n",
    "\n",
    "# @ 表示矩阵乘法\n",
    "print(\"A @ B: \\n\", A @ B)\n",
    "\n",
    "# dot 也表示矩阵乘法\n",
    "print(\"A.dot(B): \\n\", A.dot(B))"
   ]
  },
  {
   "cell_type": "markdown",
   "metadata": {},
   "source": [
    "#### 其他的一些操作"
   ]
  },
  {
   "cell_type": "code",
   "execution_count": 74,
   "metadata": {},
   "outputs": [
    {
     "name": "stdout",
     "output_type": "stream",
     "text": [
      "A: \n",
      " [[1 2 5]\n",
      " [3 4 7]]\n",
      "sum:  22\n",
      "max:  7\n",
      "sum(axis=0): \n",
      " [ 4  6 12]\n",
      "sum(axis=1): \n",
      " [ 8 14]\n"
     ]
    }
   ],
   "source": [
    "A = np.array([[1, 2, 5],\n",
    "              [3, 4, 7]])\n",
    "print(\"A: \\n\", A)\n",
    "\n",
    "# 所有元素的和\n",
    "print(\"sum: \", A.sum())\n",
    "\n",
    "# 所有元素中的最大值\n",
    "print(\"max: \", A.max())\n",
    "\n",
    "# 按列求和，也就是保留第一个 axis\n",
    "print(\"sum(axis=0): \\n\", A.sum(axis=0))\n",
    "\n",
    "# 按行求和，也就是保留第二个 axis\n",
    "print(\"sum(axis=1): \\n\", A.sum(axis=1))"
   ]
  },
  {
   "cell_type": "markdown",
   "metadata": {},
   "source": [
    "## 访问矩阵元素"
   ]
  },
  {
   "cell_type": "code",
   "execution_count": 75,
   "metadata": {},
   "outputs": [
    {
     "name": "stdout",
     "output_type": "stream",
     "text": [
      "A: \n",
      " [[1 2 5]\n",
      " [3 4 7]]\n",
      "A[1, 2]:  7\n",
      "A[1][2]:  7\n"
     ]
    }
   ],
   "source": [
    "A = np.array([[1, 2, 5],\n",
    "              [3, 4, 7]])\n",
    "print(\"A: \\n\", A)\n",
    "# 第一种方法\n",
    "print(\"A[1, 2]: \", A[1, 2])\n",
    "\n",
    "# 第二种方法\n",
    "print(\"A[1][2]: \", A[1][2])"
   ]
  },
  {
   "cell_type": "markdown",
   "metadata": {},
   "source": [
    "#### 按最外层遍历"
   ]
  },
  {
   "cell_type": "code",
   "execution_count": 76,
   "metadata": {},
   "outputs": [
    {
     "name": "stdout",
     "output_type": "stream",
     "text": [
      "A: \n",
      " [[1 2 5]\n",
      " [3 4 7]]\n",
      "rows\n",
      "[1 2 5]\n",
      "[3 4 7]\n"
     ]
    }
   ],
   "source": [
    "A = np.array([[1, 2, 5],\n",
    "              [3, 4, 7]])\n",
    "print(\"A: \\n\", A)\n",
    "print(\"rows\")\n",
    "for row in A:\n",
    "    print(row)"
   ]
  },
  {
   "cell_type": "markdown",
   "metadata": {},
   "source": [
    "#### 按元素遍历"
   ]
  },
  {
   "cell_type": "code",
   "execution_count": 77,
   "metadata": {},
   "outputs": [
    {
     "name": "stdout",
     "output_type": "stream",
     "text": [
      "A: \n",
      " [[1 2 5]\n",
      " [3 4 7]]\n",
      "elements\n",
      "1\n",
      "2\n",
      "5\n",
      "3\n",
      "4\n",
      "7\n"
     ]
    }
   ],
   "source": [
    "A = np.array([[1, 2, 5],\n",
    "              [3, 4, 7]])\n",
    "print(\"A: \\n\", A)\n",
    "print(\"elements\")\n",
    "for e in A.flat:\n",
    "    print(e)"
   ]
  },
  {
   "cell_type": "markdown",
   "metadata": {},
   "source": [
    "## 其他"
   ]
  },
  {
   "cell_type": "markdown",
   "metadata": {},
   "source": [
    "#### 拷贝"
   ]
  },
  {
   "cell_type": "code",
   "execution_count": 78,
   "metadata": {},
   "outputs": [
    {
     "name": "stdout",
     "output_type": "stream",
     "text": [
      "id of A:  4429073744\n",
      "id of B(=):  4429073744\n",
      "id of C(copy):  4429678448\n"
     ]
    }
   ],
   "source": [
    "# `=` 并不是拷贝\n",
    "A = np.array([1, 2, 3])\n",
    "B = A\n",
    "print(\"id of A: \", id(A))\n",
    "print(\"id of B(=): \", id(B))\n",
    "\n",
    "# 使用 copy 方法进行拷贝\n",
    "C = A.copy \n",
    "print(\"id of C(copy): \", id(C))"
   ]
  },
  {
   "cell_type": "markdown",
   "metadata": {},
   "source": [
    "#### 还有其他的功能\n",
    "\n",
    "- 矩阵拼接\n",
    "- 矩阵分块\n",
    "- 通过 view 方法在同一个原始数据上创建出不同的外观"
   ]
  },
  {
   "cell_type": "markdown",
   "metadata": {},
   "source": [
    "## 为每个元素应用自定义函数\n",
    "\n",
    "通过 vectorize() 函数实现\n",
    "\n",
    "注：一定要指定输出元素的类型！！！！！！！！！！！"
   ]
  },
  {
   "cell_type": "code",
   "execution_count": 1,
   "metadata": {},
   "outputs": [
    {
     "name": "stdout",
     "output_type": "stream",
     "text": [
      "A: \n",
      " [[ 0  1  2  3]\n",
      " [ 4  5  6  7]\n",
      " [ 8  9 10 11]]\n",
      "foo(A): \n",
      " [['odd-0' 'even-1' 'odd-2' 'even-3']\n",
      " ['odd-4' 'even-5' 'odd-6' 'even-7']\n",
      " ['odd-8' 'even-9' 'odd-10' 'even-11']]\n"
     ]
    }
   ],
   "source": [
    "import numpy as np\n",
    "\n",
    "def foo(x):\n",
    "    # odd\n",
    "    if x % 2 != 1:\n",
    "        return \"odd-{}\".format(x)\n",
    "    else:\n",
    "        return \"even-{}\".format(x)\n",
    "\n",
    "vfoo = np.vectorize(foo, otypes=[str])\n",
    "\n",
    "A = np.arange(12).reshape(3, 4)\n",
    "print(\"A: \\n\", A)\n",
    "\n",
    "print(\"foo(A): \\n\", vfoo(A))"
   ]
  }
 ],
 "metadata": {
  "interpreter": {
   "hash": "b0fa6594d8f4cbf19f97940f81e996739fb7646882a419484c72d19e05852a7e"
  },
  "kernelspec": {
   "display_name": "Python 3.9.7 64-bit",
   "language": "python",
   "name": "python3"
  },
  "language_info": {
   "codemirror_mode": {
    "name": "ipython",
    "version": 3
   },
   "file_extension": ".py",
   "mimetype": "text/x-python",
   "name": "python",
   "nbconvert_exporter": "python",
   "pygments_lexer": "ipython3",
   "version": "3.9.7"
  },
  "orig_nbformat": 4
 },
 "nbformat": 4,
 "nbformat_minor": 2
}
